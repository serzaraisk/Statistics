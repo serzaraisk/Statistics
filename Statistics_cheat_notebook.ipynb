{
  "nbformat": 4,
  "nbformat_minor": 0,
  "metadata": {
    "colab": {
      "name": "Statistics_cheat_notebook.ipynb",
      "provenance": [],
      "collapsed_sections": [],
      "toc_visible": true,
      "authorship_tag": "ABX9TyMmb8w9jcDTblpu7MWowQkB",
      "include_colab_link": true
    },
    "kernelspec": {
      "name": "python3",
      "display_name": "Python 3"
    }
  },
  "cells": [
    {
      "cell_type": "markdown",
      "metadata": {
        "id": "view-in-github",
        "colab_type": "text"
      },
      "source": [
        "<a href=\"https://colab.research.google.com/github/serzaraisk/Statistics/blob/main/Statistics_cheat_notebook.ipynb\" target=\"_parent\"><img src=\"https://colab.research.google.com/assets/colab-badge.svg\" alt=\"Open In Colab\"/></a>"
      ]
    },
    {
      "cell_type": "code",
      "metadata": {
        "id": "Lvs57EtUcr52",
        "outputId": "9b582b08-6cee-44df-95bd-04675c1e72dc",
        "colab": {
          "base_uri": "https://localhost:8080/"
        }
      },
      "source": [
        "import numpy as np\n",
        "import pandas as pd\n",
        "import scipy as sc\n",
        "import requests\n",
        "import base64\n",
        "from statsmodels.stats.weightstats import DescrStatsW \n",
        "%pylab inline"
      ],
      "execution_count": 6,
      "outputs": [
        {
          "output_type": "stream",
          "text": [
            "Populating the interactive namespace from numpy and matplotlib\n"
          ],
          "name": "stdout"
        }
      ]
    },
    {
      "cell_type": "code",
      "metadata": {
        "id": "QJhzuOqlc3Jx"
      },
      "source": [
        "def get_txt_from_github(url):\r\n",
        "  req = requests.get(url)\r\n",
        "  return req.text.decode()"
      ],
      "execution_count": 19,
      "outputs": []
    },
    {
      "cell_type": "markdown",
      "metadata": {
        "id": "WU0_TOe9gt0X"
      },
      "source": [
        "# Contents\r\n",
        "\r\n",
        "\r\n",
        "*   List item\r\n",
        "\r\n",
        "*   List item\r\n",
        "*   List item\r\n",
        "\r\n",
        "\r\n",
        "*   List item\r\n",
        "\r\n"
      ]
    },
    {
      "cell_type": "markdown",
      "metadata": {
        "id": "ML-FPxKMcr55"
      },
      "source": [
        "## T confindence Intervals\n",
        "\n",
        "For a sample of 915 biochemistry graduate students we now hom many papers they produced during the last 3 years of their PhD prodram. \n",
        "\n",
        "How do we estimate the average number of papers with uncertainty?"
      ]
    },
    {
      "cell_type": "code",
      "metadata": {
        "id": "9T1ccNjRcr56",
        "outputId": "aaaacafa-ac4f-49cd-e313-9b822fcad4c7",
        "colab": {
          "base_uri": "https://localhost:8080/",
          "height": 265
        }
      },
      "source": [
        "from numpy import loadtxt\n",
        "bio_papers = loadtxt('https://raw.githubusercontent.com/serzaraisk/Statistics/main/bioChemists.txt')\n",
        "plt.hist(bio_papers);"
      ],
      "execution_count": 21,
      "outputs": [
        {
          "output_type": "display_data",
          "data": {
            "image/png": "[encoded data removed]",
            "text/plain": [
              "<Figure size 432x288 with 1 Axes>"
            ]
          },
          "metadata": {
            "tags": [],
            "needs_background": "light"
          }
        }
      ]
    },
    {
      "cell_type": "markdown",
      "metadata": {
        "id": "6c4vxwXWcr57"
      },
      "source": [
        "### Estimating the mean\n",
        "Simple point estimate of the mean:"
      ]
    },
    {
      "cell_type": "code",
      "metadata": {
        "id": "wWpTOyGncr58",
        "outputId": "aeb2ac6b-4bb9-4e83-ef7f-a1ae9c7f014d",
        "colab": {
          "base_uri": "https://localhost:8080/"
        }
      },
      "source": [
        "bio_papers.mean()"
      ],
      "execution_count": 22,
      "outputs": [
        {
          "output_type": "execute_result",
          "data": {
            "text/plain": [
              "1.692896174863388"
            ]
          },
          "metadata": {
            "tags": []
          },
          "execution_count": 22
        }
      ]
    },
    {
      "cell_type": "markdown",
      "metadata": {
        "id": "3CNUbtdbcr59"
      },
      "source": [
        "Asymptotic confidence interval:"
      ]
    },
    {
      "cell_type": "code",
      "metadata": {
        "id": "i349Vq70cr59",
        "outputId": "6b526990-4c76-4325-bd98-92217860306a"
      },
      "source": [
        "from statsmodels.stats.weightstats import DescrStatsW \n",
        "print(\"95% confidence interval:\", DescrStatsW(bio_papers).tconfint_mean())"
      ],
      "execution_count": null,
      "outputs": [
        {
          "output_type": "stream",
          "text": [
            "95% confidence interval: (1.5679321925466905, 1.8178601571800854)\n"
          ],
          "name": "stdout"
        }
      ]
    },
    {
      "cell_type": "markdown",
      "metadata": {
        "id": "iknJzXgRcr5-"
      },
      "source": [
        "Another way to calculate it:"
      ]
    },
    {
      "cell_type": "code",
      "metadata": {
        "id": "wyzBGFjFcr5_",
        "outputId": "c7415894-3de1-4960-ffea-d8e77e7e93db"
      },
      "source": [
        "from statsmodels.stats.weightstats import _tconfint_generic\n",
        "n = len(bio_papers)\n",
        "print(\"95% confidence interval:\", _tconfint_generic(bio_papers.mean(), \n",
        "                                                    bio_papers.std(ddof=1) / np.sqrt(n),\n",
        "                                                    dof = n-1,\n",
        "                                                    alpha=0.05,\n",
        "                                                    alternative = 'two-sided'))"
      ],
      "execution_count": null,
      "outputs": [
        {
          "output_type": "stream",
          "text": [
            "95% confidence interval: (1.5679321925466905, 1.8178601571800854)\n"
          ],
          "name": "stdout"
        }
      ]
    },
    {
      "cell_type": "markdown",
      "metadata": {
        "id": "e-2gT4XGcr6B"
      },
      "source": [
        "Yet another way, without any external libraries:"
      ]
    },
    {
      "cell_type": "code",
      "metadata": {
        "id": "Ue9dgk39cr6C",
        "outputId": "68ed2854-9b98-43e6-eae6-c349e1f60c06"
      },
      "source": [
        "mean = bio_papers.mean()\n",
        "std = bio_papers.std(ddof=1)\n",
        "n = len(bio_papers)\n",
        "alpha = 0.05\n",
        "CI = (mean - sc.stats.t.ppf(1 - alpha / 2.0, n-1) * std / np.sqrt(n),\n",
        "      mean + sc.stats.t.ppf(1 - alpha / 2.0, n-1) * std / np.sqrt(n))\n",
        "        \n",
        "print(\"95% confidence interval:\", CI)"
      ],
      "execution_count": null,
      "outputs": [
        {
          "output_type": "stream",
          "text": [
            "95% confidence interval: (1.5679321925466905, 1.8178601571800854)\n"
          ],
          "name": "stdout"
        }
      ]
    },
    {
      "cell_type": "markdown",
      "metadata": {
        "id": "LQL-awingYXY"
      },
      "source": [
        "## BootStrap methods\n",
        "\n",
        "Verizon was an Incumbent Local Exchange Carrier (ILEC), responsible for maintaining land-line phone service in certain areas. Verizon also sold long-distance service, as did a number of competitors, termed Competitive Local Exchange Carriers (CLEC). When something went wrong, Verizon was responsible for repairs, and was supposed to make repairs as quickly for CLEC long-distance customers as for their own. The New York Public Utilities Commission (PUC) monitored fairness by comparing repair times for Verizon and different CLECs, for different classes of repairs and time periods.\n",
        "\n",
        "The data is for one combination of CLEC, class of service, and period."
      ]
    },
    {
      "cell_type": "code",
      "metadata": {
        "id": "uCQdnH0DgYXa",
        "outputId": "122ff786-a153-4ebd-b750-3faf566789bb",
        "colab": {
          "base_uri": "https://localhost:8080/",
          "height": 204
        }
      },
      "source": [
        "verizon_data = pd.read_csv('https://raw.githubusercontent.com/serzaraisk/Statistics/main/verizon.txt', sep='\\t')\n",
        "verizon_data.head()"
      ],
      "execution_count": 26,
      "outputs": [
        {
          "output_type": "execute_result",
          "data": {
            "text/html": [
              "<div>\n",
              "<style scoped>\n",
              "    .dataframe tbody tr th:only-of-type {\n",
              "        vertical-align: middle;\n",
              "    }\n",
              "\n",
              "    .dataframe tbody tr th {\n",
              "        vertical-align: top;\n",
              "    }\n",
              "\n",
              "    .dataframe thead th {\n",
              "        text-align: right;\n",
              "    }\n",
              "</style>\n",
              "<table border=\"1\" class=\"dataframe\">\n",
              "  <thead>\n",
              "    <tr style=\"text-align: right;\">\n",
              "      <th></th>\n",
              "      <th>Time</th>\n",
              "      <th>Group</th>\n",
              "    </tr>\n",
              "  </thead>\n",
              "  <tbody>\n",
              "    <tr>\n",
              "      <th>0</th>\n",
              "      <td>17.50</td>\n",
              "      <td>ILEC</td>\n",
              "    </tr>\n",
              "    <tr>\n",
              "      <th>1</th>\n",
              "      <td>2.40</td>\n",
              "      <td>ILEC</td>\n",
              "    </tr>\n",
              "    <tr>\n",
              "      <th>2</th>\n",
              "      <td>0.00</td>\n",
              "      <td>ILEC</td>\n",
              "    </tr>\n",
              "    <tr>\n",
              "      <th>3</th>\n",
              "      <td>0.65</td>\n",
              "      <td>ILEC</td>\n",
              "    </tr>\n",
              "    <tr>\n",
              "      <th>4</th>\n",
              "      <td>22.23</td>\n",
              "      <td>ILEC</td>\n",
              "    </tr>\n",
              "  </tbody>\n",
              "</table>\n",
              "</div>"
            ],
            "text/plain": [
              "    Time Group\n",
              "0  17.50  ILEC\n",
              "1   2.40  ILEC\n",
              "2   0.00  ILEC\n",
              "3   0.65  ILEC\n",
              "4  22.23  ILEC"
            ]
          },
          "metadata": {
            "tags": []
          },
          "execution_count": 26
        }
      ]
    },
    {
      "cell_type": "code",
      "metadata": {
        "id": "N_ybvBI9gYXc"
      },
      "source": [
        "ilec_time = verizon_data[verizon_data.Group == 'ILEC'].Time.values\n",
        "clec_time = verizon_data[verizon_data.Group == 'CLEC'].Time.values"
      ],
      "execution_count": 27,
      "outputs": []
    },
    {
      "cell_type": "code",
      "metadata": {
        "id": "U7m0PI_ggYXc",
        "outputId": "c3164104-e218-4a00-dc69-64ad7e01c86f",
        "colab": {
          "base_uri": "https://localhost:8080/",
          "height": 320
        }
      },
      "source": [
        "pylab.figure(figsize(12, 5))\n",
        "pylab.subplot(1,2,1)\n",
        "pylab.hist(ilec_time, bins = 20, color = 'b', range = (0, 100), label = 'ILEC')\n",
        "pylab.legend()\n",
        "\n",
        "pylab.subplot(1,2,2)\n",
        "pylab.hist(clec_time, bins = 20, color = 'r', range = (0, 100), label = 'CLEC')\n",
        "pylab.legend();"
      ],
      "execution_count": 28,
      "outputs": [
        {
          "output_type": "display_data",
          "data": {
            "image/png": "[encoded data removed]",
            "text/plain": [
              "<Figure size 864x360 with 2 Axes>"
            ]
          },
          "metadata": {
            "tags": [],
            "needs_background": "light"
          }
        }
      ]
    },
    {
      "cell_type": "markdown",
      "metadata": {
        "id": "WZOruAc7gYXd"
      },
      "source": [
        "### Percentile bootstrap\n",
        "\n",
        "Standard Python libraries do not have implementation of bootstrap methods. The basic one – percentile bootstrap – is easy to implement ourselves. "
      ]
    },
    {
      "cell_type": "code",
      "metadata": {
        "id": "mdFAlMT4gYXe"
      },
      "source": [
        "def get_bootstrap_samples(x, n_resamples):\n",
        "    indices = np.random.randint(0, len(x), (n_resamples, len(x)))\n",
        "    resamples = x[indices]\n",
        "    return resamples"
      ],
      "execution_count": 29,
      "outputs": []
    },
    {
      "cell_type": "code",
      "metadata": {
        "id": "SR5JCZeUgYXf"
      },
      "source": [
        "def percentile_interval(stat, alpha):\n",
        "    boundaries = np.percentile(stat, [100 * alpha / 2., 100 * (1 - alpha / 2.)])\n",
        "    return boundaries"
      ],
      "execution_count": 30,
      "outputs": []
    },
    {
      "cell_type": "markdown",
      "metadata": {
        "id": "dwK7mhE7gYXf"
      },
      "source": [
        "### For a parameter of a single sample"
      ]
    },
    {
      "cell_type": "code",
      "metadata": {
        "id": "SYlSdNIXgYXg",
        "outputId": "8e228829-c8d0-4650-f0e5-d4b9f1051d5c",
        "colab": {
          "base_uri": "https://localhost:8080/"
        }
      },
      "source": [
        "np.random.seed(0)\n",
        "\n",
        "ilec_median_scores = list(map(np.median, get_bootstrap_samples(ilec_time, 5000)))\n",
        "clec_median_scores = list(map(np.median, get_bootstrap_samples(clec_time, 5000)))\n",
        "\n",
        "print(\"95% confidence interval for the ILEC median repair time:\",  percentile_interval(ilec_median_scores, 0.05))\n",
        "print(\"95% confidence interval for the CLEC median repair time:\",  percentile_interval(clec_median_scores, 0.05))"
      ],
      "execution_count": 31,
      "outputs": [
        {
          "output_type": "stream",
          "text": [
            "95% confidence interval for the ILEC median repair time: [3.22  3.825]\n",
            "95% confidence interval for the CLEC median repair time: [ 5.8  20.28]\n"
          ],
          "name": "stdout"
        }
      ]
    },
    {
      "cell_type": "markdown",
      "metadata": {
        "id": "p7sz8JbEgYXh"
      },
      "source": [
        "### For a combination of parameters of two samples"
      ]
    },
    {
      "cell_type": "code",
      "metadata": {
        "id": "A0LqDPiigYXh",
        "outputId": "a783935d-7d6c-4be0-c584-c7082edc5057",
        "colab": {
          "base_uri": "https://localhost:8080/"
        }
      },
      "source": [
        "print(\"Estimated difference between repait times:\", np.median(clec_time) - np.median(ilec_time))"
      ],
      "execution_count": 32,
      "outputs": [
        {
          "output_type": "stream",
          "text": [
            "Estimated difference between repait times: 10.74\n"
          ],
          "name": "stdout"
        }
      ]
    },
    {
      "cell_type": "code",
      "metadata": {
        "id": "mLaCUbV_gYXi",
        "outputId": "e3b1fa2b-f09b-404a-ef44-b2201a56b3ab",
        "colab": {
          "base_uri": "https://localhost:8080/"
        }
      },
      "source": [
        "delta_median_scores = list(map(lambda x: x[1] - x[0], zip(ilec_median_scores, clec_median_scores)))\n",
        "print(\"95% confidence interval for the difference between median repair times:\",  \n",
        "      percentile_interval(delta_median_scores, 0.05))"
      ],
      "execution_count": 33,
      "outputs": [
        {
          "output_type": "stream",
          "text": [
            "95% confidence interval for the difference between median repair times: [ 2.08  16.655]\n"
          ],
          "name": "stdout"
        }
      ]
    },
    {
      "cell_type": "markdown",
      "metadata": {
        "id": "rzXT9UojgYXj"
      },
      "source": [
        "### BCa bootstrap\n",
        "An external library https://pypi.org/project/bootstrap-stat/ actually has more exciting bootstrap methods implemented, including BCa bootstrap! The library is rather new and fresh, but seems to be working fine! Here are the examples, you'd have to install the library if you want to run them. "
      ]
    },
    {
      "cell_type": "code",
      "metadata": {
        "id": "85inHihVgYXj",
        "outputId": "ff140909-f365-4600-bbad-9277cfb476fa",
        "colab": {
          "base_uri": "https://localhost:8080/"
        }
      },
      "source": [
        "! pip install bootstrap_stat\r\n",
        "from bootstrap_stat import bootstrap_stat as bp"
      ],
      "execution_count": 35,
      "outputs": [
        {
          "output_type": "stream",
          "text": [
            "Collecting bootstrap_stat\n",
            "  Downloading https://files.pythonhosted.org/packages/a2/c8/f9a24196b843be3ad50b0b34d5a2af571b49b1ac9b486a81fc7163f179d0/bootstrap_stat-0.2.4.2-py3-none-any.whl\n",
            "Requirement already satisfied: numpy>=1.17 in /usr/local/lib/python3.6/dist-packages (from bootstrap_stat) (1.19.5)\n",
            "Requirement already satisfied: pandas>=0.25.1 in /usr/local/lib/python3.6/dist-packages (from bootstrap_stat) (1.1.5)\n",
            "Collecting pathos>=0.2.5\n",
            "\u001b[?25l  Downloading https://files.pythonhosted.org/packages/10/9e/0100b1d500851fc8e093da5463ca38e013c86ea0855e7c510ca0d3e1f7c1/pathos-0.2.7-py2.py3-none-any.whl (81kB)\n",
            "\u001b[K     |████████████████████████████████| 81kB 3.8MB/s \n",
            "\u001b[?25hRequirement already satisfied: scipy>=1.3 in /usr/local/lib/python3.6/dist-packages (from bootstrap_stat) (1.4.1)\n",
            "Requirement already satisfied: pytz>=2017.2 in /usr/local/lib/python3.6/dist-packages (from pandas>=0.25.1->bootstrap_stat) (2018.9)\n",
            "Requirement already satisfied: python-dateutil>=2.7.3 in /usr/local/lib/python3.6/dist-packages (from pandas>=0.25.1->bootstrap_stat) (2.8.1)\n",
            "Requirement already satisfied: dill>=0.3.3 in /usr/local/lib/python3.6/dist-packages (from pathos>=0.2.5->bootstrap_stat) (0.3.3)\n",
            "Requirement already satisfied: multiprocess>=0.70.11 in /usr/local/lib/python3.6/dist-packages (from pathos>=0.2.5->bootstrap_stat) (0.70.11.1)\n",
            "Collecting ppft>=1.6.6.3\n",
            "\u001b[?25l  Downloading https://files.pythonhosted.org/packages/51/7b/e63dcf1f9b5ecd37691ee8a7029f71ddb7cafab780a60e312d913afc0f29/ppft-1.6.6.3-py3-none-any.whl (65kB)\n",
            "\u001b[K     |████████████████████████████████| 71kB 6.9MB/s \n",
            "\u001b[?25hCollecting pox>=0.2.9\n",
            "  Downloading https://files.pythonhosted.org/packages/6b/06/600e1b1103336ce94cf01e63a6c7b134f0edccf59bbf99189c975e2f257e/pox-0.2.9-py2.py3-none-any.whl\n",
            "Requirement already satisfied: six>=1.5 in /usr/local/lib/python3.6/dist-packages (from python-dateutil>=2.7.3->pandas>=0.25.1->bootstrap_stat) (1.15.0)\n",
            "Installing collected packages: ppft, pox, pathos, bootstrap-stat\n",
            "Successfully installed bootstrap-stat-0.2.4.2 pathos-0.2.7 pox-0.2.9 ppft-1.6.6.3\n"
          ],
          "name": "stdout"
        }
      ]
    },
    {
      "cell_type": "markdown",
      "metadata": {
        "id": "4JHbG_5hgYXk"
      },
      "source": [
        "### For a parameter of a single sample"
      ]
    },
    {
      "cell_type": "code",
      "metadata": {
        "id": "slNYpWbvgYXk"
      },
      "source": [
        "dist_ilec = bp.EmpiricalDistribution(ilec_time)\n",
        "dist_clec = bp.EmpiricalDistribution(clec_time)"
      ],
      "execution_count": 36,
      "outputs": []
    },
    {
      "cell_type": "code",
      "metadata": {
        "id": "iGNdRtmNgYXl",
        "outputId": "b4935299-6289-4f06-b8fa-9e39a3b43734",
        "colab": {
          "base_uri": "https://localhost:8080/"
        }
      },
      "source": [
        "print(\"95% confidence interval for the ILEC median repair time:\", \n",
        "      bp.bcanon_interval(dist_ilec, np.median, ilec_time, B=5000))\n",
        "print(\"95% confidence interval for the CLEC median repair time:\", \n",
        "      bp.bcanon_interval(dist_clec, np.median, clec_time, B=5000))"
      ],
      "execution_count": 37,
      "outputs": [
        {
          "output_type": "stream",
          "text": [
            "95% confidence interval for the ILEC median repair time: (3.26, 3.78)\n",
            "95% confidence interval for the CLEC median repair time: (5.45, 19.88)\n"
          ],
          "name": "stdout"
        }
      ]
    },
    {
      "cell_type": "markdown",
      "metadata": {
        "id": "KtP2pSRAgYXl"
      },
      "source": [
        "### For a combination of parameters of two samples"
      ]
    },
    {
      "cell_type": "code",
      "metadata": {
        "id": "CtnKzsG_gYXm",
        "outputId": "2f3b0846-1ee1-4418-d434-f8f6c24f003d",
        "colab": {
          "base_uri": "https://localhost:8080/"
        }
      },
      "source": [
        "joint_dist = bp.MultiSampleEmpiricalDistribution((ilec_time, clec_time))\n",
        "\n",
        "def median_diff(two_sample_tuple):\n",
        "    return np.median(two_sample_tuple[1]) - np.median(two_sample_tuple[0])\n",
        "\n",
        "print(\"95% confidence interval for the difference between median repair times:\", \n",
        "      bp.bcanon_interval(joint_dist, median_diff, (ilec_time, clec_time), B=5000))"
      ],
      "execution_count": 38,
      "outputs": [
        {
          "output_type": "stream",
          "text": [
            "95% confidence interval for the difference between median repair times: (2.13, 16.4)\n"
          ],
          "name": "stdout"
        }
      ]
    },
    {
      "cell_type": "code",
      "metadata": {
        "id": "q36zpNUaiX1E"
      },
      "source": [
        ""
      ],
      "execution_count": null,
      "outputs": []
    }
  ]
}